{
 "cells": [
  {
   "cell_type": "markdown",
   "metadata": {},
   "source": [
    "# Création de l'IA détecteur de plagiat\n",
    "- avant d'exécuter ce notebook, il faut éxécuter le fichier unpack.py"
   ]
  },
  {
   "cell_type": "code",
   "execution_count": 9,
   "metadata": {},
   "outputs": [],
   "source": [
    "import os\n",
    "from transformers import BertTokenizer, BertModel\n",
    "import torch\n",
    "import faiss\n",
    "import pickle\n",
    "import numpy as np\n",
    "from sentence_transformers import util"
   ]
  },
  {
   "cell_type": "markdown",
   "metadata": {},
   "source": [
    "On commence par importer toutes les librairies nécessaires pour le transformers"
   ]
  },
  {
   "cell_type": "code",
   "execution_count": 13,
   "metadata": {},
   "outputs": [],
   "source": [
    "tokenizer = BertTokenizer.from_pretrained('bert-base-uncased')\n",
    "model = BertModel.from_pretrained('bert-base-uncased')\n",
    "# Chemins des dossiers\n",
    "original = \"output/source/\"\n",
    "copie = \"output/suspicious/\"\n"
   ]
  },
  {
   "cell_type": "markdown",
   "metadata": {},
   "source": [
    "Ajouter expliations"
   ]
  },
  {
   "cell_type": "markdown",
   "metadata": {},
   "source": [
    "On créé ensuite la fonction qui va générer les embeddings via BERT"
   ]
  },
  {
   "cell_type": "code",
   "execution_count": 14,
   "metadata": {},
   "outputs": [],
   "source": [
    "def embed_bert(text, tokenizer, model):\n",
    "    inputs = tokenizer(text, return_tensors='pt', padding=True, truncation=True)\n",
    "    with torch.no_grad():\n",
    "        outputs = model(**inputs)\n",
    "    embeddings = outputs.last_hidden_state[0, 1:-1, :].mean(dim=0).numpy()\n",
    "    return embeddings"
   ]
  },
  {
   "cell_type": "markdown",
   "metadata": {},
   "source": [
    "Expliquer la fonction"
   ]
  },
  {
   "cell_type": "markdown",
   "metadata": {},
   "source": [
    "On génère ensuite un embedding de tout le corpus de textes origniaux"
   ]
  },
  {
   "cell_type": "code",
   "execution_count": 15,
   "metadata": {},
   "outputs": [],
   "source": [
    "corpus = []\n",
    "corpus_embeddings = []\n",
    "for filename in os.listdir(original):\n",
    "    if filename.endswith(\".txt\"):\n",
    "        with open(os.path.join(original, filename), 'r') as f:\n",
    "            texte_original = f.read()\n",
    "            corpus.append(texte_original)\n",
    "            corpus_embeddings.append(embed_bert(texte_original, tokenizer, model))\n",
    "\n",
    "corpus_embeddings = np.array(corpus_embeddings)"
   ]
  },
  {
   "cell_type": "code",
   "execution_count": 22,
   "metadata": {},
   "outputs": [],
   "source": [
    "def check_plagiarism(text, tokenizer, model, index, corpus_embeddings, output_file=\"plagiat.txt\", threshold=0.8):\n",
    "    \n",
    "    # Calcul de l'embedding du texte à vérifier\n",
    "    text_embedding = embed_bert(text, tokenizer, model)\n",
    "    D, I = index.search(np.array([text_embedding]), k=5)  # Recherche des k voisins les plus proches\n",
    "\n",
    "    # Stocker les textes similaires\n",
    "    similar_texts = []\n",
    "\n",
    "    # Ouverture du fichier pour écrire les résultats\n",
    "    with open(output_file, \"w\", encoding=\"utf-8\") as file:\n",
    "        for i in range(len(I[0])):\n",
    "            # Calcul de la similarité cosinus\n",
    "            similarity = util.cos_sim(text_embedding, corpus_embeddings[I[0][i]])\n",
    "            if similarity >= threshold:\n",
    "                detected_text = corpus[I[0][i]]\n",
    "                similar_texts.append({\n",
    "                    'text': detected_text,\n",
    "                    'similarity': similarity.item()\n",
    "                })\n",
    "                # Écriture dans le fichier\n",
    "                file.write(f\"Plagiat détecté :\\n\")\n",
    "                file.write(f\"- Texte source : {detected_text}\\n\")\n",
    "                file.write(f\"- Texte Similaire : {similar_texts}\\n\")\n",
    "                file.write(f\"- Similarité : {similarity.item():.2f}\\n\\n\")\n",
    "\n",
    "    print(f\"Résultats de plagiat enregistrés dans {output_file}\")\n",
    "    return similar_texts"
   ]
  },
  {
   "cell_type": "markdown",
   "metadata": {},
   "source": [
    "On créé maintenant l'index FAISS puis on parcours le dossier contenant les copies pour trouver les plagiats"
   ]
  },
  {
   "cell_type": "code",
   "execution_count": 23,
   "metadata": {},
   "outputs": [
    {
     "name": "stdout",
     "output_type": "stream",
     "text": [
      "Résultats de plagiat enregistrés dans plagiat.txt\n",
      "Résultats de plagiat enregistrés dans plagiat.txt\n",
      "Résultats de plagiat enregistrés dans plagiat.txt\n",
      "Résultats de plagiat enregistrés dans plagiat.txt\n",
      "Résultats de plagiat enregistrés dans plagiat.txt\n",
      "Résultats de plagiat enregistrés dans plagiat.txt\n",
      "Résultats de plagiat enregistrés dans plagiat.txt\n",
      "Résultats de plagiat enregistrés dans plagiat.txt\n",
      "Résultats de plagiat enregistrés dans plagiat.txt\n",
      "Résultats de plagiat enregistrés dans plagiat.txt\n",
      "Résultats de plagiat enregistrés dans plagiat.txt\n",
      "Résultats de plagiat enregistrés dans plagiat.txt\n",
      "Résultats de plagiat enregistrés dans plagiat.txt\n",
      "Résultats de plagiat enregistrés dans plagiat.txt\n",
      "Résultats de plagiat enregistrés dans plagiat.txt\n",
      "Résultats de plagiat enregistrés dans plagiat.txt\n",
      "Résultats de plagiat enregistrés dans plagiat.txt\n",
      "Résultats de plagiat enregistrés dans plagiat.txt\n",
      "Résultats de plagiat enregistrés dans plagiat.txt\n",
      "Résultats de plagiat enregistrés dans plagiat.txt\n",
      "Résultats de plagiat enregistrés dans plagiat.txt\n",
      "Résultats de plagiat enregistrés dans plagiat.txt\n",
      "Résultats de plagiat enregistrés dans plagiat.txt\n",
      "Résultats de plagiat enregistrés dans plagiat.txt\n",
      "Résultats de plagiat enregistrés dans plagiat.txt\n",
      "Résultats de plagiat enregistrés dans plagiat.txt\n",
      "Résultats de plagiat enregistrés dans plagiat.txt\n",
      "Résultats de plagiat enregistrés dans plagiat.txt\n",
      "Résultats de plagiat enregistrés dans plagiat.txt\n",
      "Résultats de plagiat enregistrés dans plagiat.txt\n",
      "Résultats de plagiat enregistrés dans plagiat.txt\n",
      "Résultats de plagiat enregistrés dans plagiat.txt\n",
      "Résultats de plagiat enregistrés dans plagiat.txt\n",
      "Résultats de plagiat enregistrés dans plagiat.txt\n",
      "Résultats de plagiat enregistrés dans plagiat.txt\n",
      "Résultats de plagiat enregistrés dans plagiat.txt\n",
      "Résultats de plagiat enregistrés dans plagiat.txt\n",
      "Résultats de plagiat enregistrés dans plagiat.txt\n",
      "Résultats de plagiat enregistrés dans plagiat.txt\n",
      "Résultats de plagiat enregistrés dans plagiat.txt\n",
      "Résultats de plagiat enregistrés dans plagiat.txt\n",
      "Résultats de plagiat enregistrés dans plagiat.txt\n",
      "Résultats de plagiat enregistrés dans plagiat.txt\n",
      "Résultats de plagiat enregistrés dans plagiat.txt\n",
      "Résultats de plagiat enregistrés dans plagiat.txt\n",
      "Résultats de plagiat enregistrés dans plagiat.txt\n",
      "Résultats de plagiat enregistrés dans plagiat.txt\n",
      "Résultats de plagiat enregistrés dans plagiat.txt\n",
      "Résultats de plagiat enregistrés dans plagiat.txt\n",
      "Résultats de plagiat enregistrés dans plagiat.txt\n",
      "Résultats de plagiat enregistrés dans plagiat.txt\n",
      "Résultats de plagiat enregistrés dans plagiat.txt\n",
      "Résultats de plagiat enregistrés dans plagiat.txt\n",
      "Résultats de plagiat enregistrés dans plagiat.txt\n",
      "Résultats de plagiat enregistrés dans plagiat.txt\n",
      "Résultats de plagiat enregistrés dans plagiat.txt\n",
      "Résultats de plagiat enregistrés dans plagiat.txt\n",
      "Résultats de plagiat enregistrés dans plagiat.txt\n",
      "Résultats de plagiat enregistrés dans plagiat.txt\n",
      "Résultats de plagiat enregistrés dans plagiat.txt\n",
      "Résultats de plagiat enregistrés dans plagiat.txt\n",
      "Résultats de plagiat enregistrés dans plagiat.txt\n",
      "Résultats de plagiat enregistrés dans plagiat.txt\n",
      "Résultats de plagiat enregistrés dans plagiat.txt\n",
      "Résultats de plagiat enregistrés dans plagiat.txt\n",
      "Résultats de plagiat enregistrés dans plagiat.txt\n",
      "Résultats de plagiat enregistrés dans plagiat.txt\n",
      "Résultats de plagiat enregistrés dans plagiat.txt\n",
      "Résultats de plagiat enregistrés dans plagiat.txt\n",
      "Résultats de plagiat enregistrés dans plagiat.txt\n",
      "Résultats de plagiat enregistrés dans plagiat.txt\n",
      "Résultats de plagiat enregistrés dans plagiat.txt\n",
      "Résultats de plagiat enregistrés dans plagiat.txt\n",
      "Résultats de plagiat enregistrés dans plagiat.txt\n",
      "Résultats de plagiat enregistrés dans plagiat.txt\n",
      "Résultats de plagiat enregistrés dans plagiat.txt\n",
      "Résultats de plagiat enregistrés dans plagiat.txt\n",
      "Résultats de plagiat enregistrés dans plagiat.txt\n",
      "Résultats de plagiat enregistrés dans plagiat.txt\n",
      "Résultats de plagiat enregistrés dans plagiat.txt\n",
      "Résultats de plagiat enregistrés dans plagiat.txt\n",
      "Résultats de plagiat enregistrés dans plagiat.txt\n",
      "Résultats de plagiat enregistrés dans plagiat.txt\n",
      "Résultats de plagiat enregistrés dans plagiat.txt\n",
      "Résultats de plagiat enregistrés dans plagiat.txt\n",
      "Résultats de plagiat enregistrés dans plagiat.txt\n",
      "Résultats de plagiat enregistrés dans plagiat.txt\n",
      "Résultats de plagiat enregistrés dans plagiat.txt\n",
      "Résultats de plagiat enregistrés dans plagiat.txt\n",
      "Résultats de plagiat enregistrés dans plagiat.txt\n",
      "Résultats de plagiat enregistrés dans plagiat.txt\n",
      "Résultats de plagiat enregistrés dans plagiat.txt\n",
      "Résultats de plagiat enregistrés dans plagiat.txt\n",
      "Résultats de plagiat enregistrés dans plagiat.txt\n",
      "Résultats de plagiat enregistrés dans plagiat.txt\n",
      "Résultats de plagiat enregistrés dans plagiat.txt\n",
      "Résultats de plagiat enregistrés dans plagiat.txt\n",
      "Résultats de plagiat enregistrés dans plagiat.txt\n",
      "Résultats de plagiat enregistrés dans plagiat.txt\n",
      "Résultats de plagiat enregistrés dans plagiat.txt\n"
     ]
    }
   ],
   "source": [
    "# Créer l'index FAISS\n",
    "index = faiss.IndexFlatL2(corpus_embeddings.shape[1])\n",
    "index.add(corpus_embeddings)\n",
    "\n",
    "# Vérifier le plagiat\n",
    "for filename in os.listdir(copie):\n",
    "    if filename.endswith(\".txt\"):\n",
    "        with open(os.path.join(copie, filename), 'r') as f:\n",
    "            texte_copie = f.read()\n",
    "            resultats = check_plagiarism(texte_copie, tokenizer, model, index, corpus_embeddings)\n",
    "\n"
   ]
  }
 ],
 "metadata": {
  "kernelspec": {
   "display_name": "Python 3",
   "language": "python",
   "name": "python3"
  },
  "language_info": {
   "codemirror_mode": {
    "name": "ipython",
    "version": 3
   },
   "file_extension": ".py",
   "mimetype": "text/x-python",
   "name": "python",
   "nbconvert_exporter": "python",
   "pygments_lexer": "ipython3",
   "version": "3.9.6"
  }
 },
 "nbformat": 4,
 "nbformat_minor": 2
}
